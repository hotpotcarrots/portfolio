{
 "cells": [
  {
   "cell_type": "markdown",
   "id": "98639ef7",
   "metadata": {},
   "source": [
    "---\n",
    "layout: blogs \n",
    "title: Blogs\n",
    "search_exclude: true\n",
    "permalink: /Blogs/\n",
    "author: perry say\n",
    "permalink:\n",
    "---\n"
   ]
  },
  {
   "cell_type": "markdown",
   "id": "dfc924f8",
   "metadata": {},
   "source": [
    "## title\n",
    "\n",
    "blah blah blah\n",
    "\n",
    "## sub title\n",
    "\n"
   ]
  }
 ],
 "metadata": {
  "language_info": {
   "name": "python"
  }
 },
 "nbformat": 4,
 "nbformat_minor": 5
}

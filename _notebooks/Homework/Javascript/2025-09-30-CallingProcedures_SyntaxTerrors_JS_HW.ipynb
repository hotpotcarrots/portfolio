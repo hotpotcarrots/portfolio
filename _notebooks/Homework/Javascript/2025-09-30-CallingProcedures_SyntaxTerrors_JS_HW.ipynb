{
 "cells": [
  {
   "cell_type": "code",
   "execution_count": null,
   "id": "2b34f512",
   "metadata": {},
   "outputs": [],
   "source": [
    "---\n",
    "layout: post\n",
    "title: Coding Concept - Developing Procedures\n",
    "description: Understanding Developing Procedures in Python and JavaScript\n",
    "permalink: /csp/big-idea-three/developingprocedures/javascript/hw/p3/syntaxterrors\n",
    "author: Meryl C\n",
    "---"
   ]
  },
  {
   "cell_type": "markdown",
   "id": "32d46af6",
   "metadata": {},
   "source": [
    "<div align=\"center\" style=\"margin-bottom: 2em;\">\n",
    "  <a href=\"{{ site.baseurl }}/csp/big-idea-three/developingprocedures/lesson/p3/syntaxterrors\"\n",
    "     style=\"\n",
    "      display: inline-block;\n",
    "      background: linear-gradient(90deg, #2563eb 0%, #1e40af 100%);\n",
    "      color: white;\n",
    "      padding: 0.85em 2.2em;\n",
    "      border-radius: 0.6em;\n",
    "      font-weight: bold;\n",
    "      text-decoration: none;\n",
    "      font-size: 1.15em;\n",
    "      box-shadow: 0 4px 16px rgba(30,64,175,0.18), 0 1.5px 4px rgba(0,0,0,0.10);\n",
    "      transition: \n",
    "        background 0.2s,\n",
    "        transform 0.15s,\n",
    "        box-shadow 0.2s;\n",
    "    \"\n",
    "    onmouseover=\"this.style.transform='scale(1.045)'; this.style.boxShadow='0 8px 24px rgba(30,64,175,0.22), 0 2px 8px rgba(0,0,0,0.13)';\"\n",
    "    onmouseout=\"this.style.transform='scale(1)'; this.style.boxShadow='0 4px 16px rgba(30,64,175,0.18), 0 1.5px 4px rgba(0,0,0,0.10)';\"\n",
    "  >\n",
    "    Developing Procedures Lesson\n",
    "  </a>\n",
    "</div>"
   ]
  },
  {
   "cell_type": "code",
   "execution_count": null,
   "id": "101fed29",
   "metadata": {
    "vscode": {
     "languageId": "javascript"
    }
   },
   "outputs": [
    {
     "data": {
      "application/javascript": "\n// Homework: Developing Procedures in JavaScript\n\n// 1. Write a procedure that takes a number and returns its cube.\nfunction cube(n) {\n  return n * n * n;\n}\n\n// 2. Write a procedure that takes an array of numbers and returns the sum.\nfunction listSum(numbers) {\n  let total = 0;\n  for (let num of numbers) {\n    total += num;\n  }\n  return total;\n}\n\n// 3. Write a procedure that checks if a word is a palindrome.\nfunction isPalindrome(word) {\n  const reversed = word.split('').reverse().join('');\n  return word === reversed;\n}\n\n// Test the functions\nconsole.log(cube(3)); // 27\n\nconst nums = [1, 2, 3];\nconsole.log(listSum(nums)); // 6\n\nconsole.log(isPalindrome(\"racecar\")); // true\nconsole.log(isPalindrome(\"apple\"));   // false\n",
      "text/plain": [
       "<IPython.core.display.Javascript object>"
      ]
     },
     "metadata": {},
     "output_type": "display_data"
    }
   ],
   "source": [
    "%%js\n",
    "\n",
    "// Homework: Developing Procedures in JavaScript\n",
    "\n",
    "// 1. Write a procedure that takes a number and returns its cube.\n",
    "function cube(n) {\n",
    "  // Multiply the number by itself twice to get the cube\n",
    "  return n * n * n;\n",
    "}\n",
    "\n",
    "// 2. Write a procedure that takes an array of numbers and returns the sum.\n",
    "function listSum(numbers) {\n",
    "  // Initialize a variable to hold the running total\n",
    "  let total = 0;\n",
    "  // Loop through each number in the array\n",
    "  for (let num of numbers) {\n",
    "    // Add each number to the total\n",
    "    total += num;\n",
    "  }\n",
    "  // Return the final sum of all numbers\n",
    "  return total;\n",
    "}\n",
    "\n",
    "// 3. Write a procedure that checks if a word is a palindrome.\n",
    "function isPalindrome(word) {\n",
    "  // Split the word into letters, reverse them, then join back into a string\n",
    "  const reversed = word.split('').reverse().join('');\n",
    "  // Compare the original word and reversed word to check if they are the same\n",
    "  return word === reversed;\n",
    "}\n",
    "\n",
    "// Test the functions\n",
    "// Test 1: Cube of 3 should be 27\n",
    "console.log(cube(3)); // 27\n",
    "\n",
    "// Test 2: Sum of [1, 2, 3] should be 6\n",
    "const nums = [1, 2, 3];\n",
    "console.log(listSum(nums)); // 6\n",
    "\n",
    "// Test 3: Check if \"racecar\" is a palindrome → true\n",
    "console.log(isPalindrome(\"racecar\")); // true\n",
    "\n",
    "// Test 4: Check if \"apple\" is a palindrome → false\n",
    "console.log(isPalindrome(\"apple\"));   // false\n"
   ]
  },
  {
   "cell_type": "markdown",
   "id": "846b514f",
   "metadata": {},
   "source": [
    "# Extra JS Practice\n",
    "## Problem 1\n",
    "Write a procedure called averageList(numbers) that takes an array of numbers and returns the average."
   ]
  },
  {
   "cell_type": "code",
   "execution_count": null,
   "id": "d4033694",
   "metadata": {
    "vscode": {
     "languageId": "javascript"
    }
   },
   "outputs": [],
   "source": [
    "function averageList(numbers) {\n",
    "  let sum = 0;\n",
    "  for (let num of numbers) {\n",
    "    sum += num;\n",
    "  }\n",
    "  return sum / numbers.length;\n",
    "}\n",
    "\n",
    "console.log(averageList([4, 8, 6, 10, 2])); // 6\n"
   ]
  },
  {
   "cell_type": "markdown",
   "id": "c9ebc2bd",
   "metadata": {},
   "source": [
    "## Problem 2\n",
    "Write a procedure called reverseWords(sentence) that takes a string and returns the sentence with words reversed."
   ]
  },
  {
   "cell_type": "code",
   "execution_count": 1,
   "id": "a3f304fd",
   "metadata": {
    "vscode": {
     "languageId": "javascript"
    }
   },
   "outputs": [
    {
     "ename": "SyntaxError",
     "evalue": "invalid syntax (2614707997.py, line 1)",
     "output_type": "error",
     "traceback": [
      "  \u001b[36mCell\u001b[39m\u001b[36m \u001b[39m\u001b[32mIn[1]\u001b[39m\u001b[32m, line 1\u001b[39m\n\u001b[31m    \u001b[39m\u001b[31mfunction reverseWords(sentence) {\u001b[39m\n             ^\n\u001b[31mSyntaxError\u001b[39m\u001b[31m:\u001b[39m invalid syntax\n"
     ]
    }
   ],
   "source": [
    "function reverseWords(sentence) {\n",
    "  return sentence.split(' ').reverse().join(' ');\n",
    "}\n",
    "\n",
    "console.log(reverseWords(\"Hello world\")); // world Hello\n"
   ]
  }
 ],
 "metadata": {
  "kernelspec": {
   "display_name": "jupyter-env",
   "language": "python",
   "name": "python3"
  },
  "language_info": {
   "codemirror_mode": {
    "name": "ipython",
    "version": 3
   },
   "file_extension": ".py",
   "mimetype": "text/x-python",
   "name": "python",
   "nbconvert_exporter": "python",
   "pygments_lexer": "ipython3",
   "version": "3.13.7"
  }
 },
 "nbformat": 4,
 "nbformat_minor": 5
}

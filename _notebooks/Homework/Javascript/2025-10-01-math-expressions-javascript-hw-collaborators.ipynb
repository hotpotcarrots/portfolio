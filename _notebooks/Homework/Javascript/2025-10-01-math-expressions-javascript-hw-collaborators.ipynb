{
 "cells": [
  {
   "cell_type": "markdown",
   "id": "5b39efe0",
   "metadata": {},
   "source": [
    "# 📝 3.3 Homework: Variables & Arithmetic in Java\n",
    "\n",
    "## Learning Objectives\n",
    "1. Use **variables** in Java.  \n",
    "2. Follow **step-by-step sequencing**.  \n",
    "3. Use **arithmetic operators** (`+`, `-`, `*`, `/`).  \n",
    "\n",
    "---\n",
    "\n",
    "## Part 1: Simple Variables\n",
    "\n",
    "Write a Java program that does the following:\n",
    "\n",
    "1. Create a variable `grade1` and assign it the value `90`.  \n",
    "2. Create a variable `grade2` and assign it the value `80`.  \n",
    "3. Calculate the average of `grade1` and `grade2` and store it in `averageGrade`.  \n",
    "4. Display the average using `System.out.println()`.\n",
    "\n",
    "> Example Output:  \n",
    "> `The average is 85.0`  \n"
   ]
  },
  {
   "cell_type": "code",
   "execution_count": 27,
   "id": "8d539eb9",
   "metadata": {
    "vscode": {
     "languageId": "javascript"
    }
   },
   "outputs": [
    {
     "data": {
      "application/javascript": "\nlet grade1 = 90;\nlet grade2 = 80;\n\nlet averageGrade = (grade1 + grade2) / 2;\n\nconsole.log(\"The average is \" + averageGrade);\n",
      "text/plain": [
       "<IPython.core.display.Javascript object>"
      ]
     },
     "metadata": {},
     "output_type": "display_data"
    }
   ],
   "source": [
    "%%js\n",
    "\n",
    "let grade1 = 90;\n",
    "let grade2 = 80;\n",
    "\n",
    "let averageGrade = (grade1 + grade2) / 2;\n",
    "\n",
    "console.log(\"The average is \" + averageGrade);"
   ]
  },
  {
   "cell_type": "markdown",
   "id": "73b282f8",
   "metadata": {},
   "source": [
    "## Part 2: Arithmetic Practice\n",
    "\n",
    "Write a Java program to calculate these:\n",
    "\n",
    "1. `num1 = 10`  \n",
    "2. `num2 = 5`  \n",
    "3. `sum = num1 + num2`  \n",
    "4. `difference = num1 - num2`  \n",
    "5. `product = num1 * num2`  \n",
    "6. `quotient = num1 / num2`  \n",
    "7. Display all results using `System.out.println()`.  \n",
    "\n",
    "> Example Output:  \n",
    "> ```\n",
    "> Sum: 15\n",
    "> Difference: 5\n",
    "> Product: 50\n",
    "> Quotient: 2\n",
    "> ```"
   ]
  },
  {
   "cell_type": "code",
   "execution_count": 28,
   "id": "d1253a42",
   "metadata": {
    "vscode": {
     "languageId": "javascript"
    }
   },
   "outputs": [
    {
     "data": {
      "application/javascript": "\n// Step 1: Create variables\nlet num1 = 10;\nlet num2 = 5;\n\n// Step 2: Perform arithmetic operations\nlet sum = num1 + num2;\nlet difference = num1 - num2;\nlet product = num1 * num2;\nlet quotient = num1 / num2;\n\n// Step 3: Display results\nconsole.log(\"Sum: \" + sum);\nconsole.log(\"Difference: \" + difference);\nconsole.log.println(\"Product: \" + product);\nconsole.log.println(\"Quotient: \" + quotient);\n",
      "text/plain": [
       "<IPython.core.display.Javascript object>"
      ]
     },
     "metadata": {},
     "output_type": "display_data"
    }
   ],
   "source": [
    "%%js\n",
    "\n",
    "// Step 1: Create variables\n",
    "let num1 = 10;\n",
    "let num2 = 5;\n",
    "\n",
    "// Step 2: Perform arithmetic operations\n",
    "let sum = num1 + num2;\n",
    "let difference = num1 - num2;\n",
    "let product = num1 * num2;\n",
    "let quotient = num1 / num2;\n",
    "\n",
    "// Step 3: Display results\n",
    "console.log(\"Sum: \" + sum);\n",
    "console.log(\"Difference: \" + difference);\n",
    "console.log.println(\"Product: \" + product);\n",
    "console.log.println(\"Quotient: \" + quotient);"
   ]
  },
  {
   "cell_type": "markdown",
   "id": "b91b4ddf",
   "metadata": {},
   "source": [
    "## Part 3: Step-by-Step Sequencing\n",
    "\n",
    "Write a Java program that does this sequence:\n",
    "\n",
    "1. Set `num1 = 2` and `num2 = 3`.  \n",
    "2. Calculate `num3 = num1 + num2`.  \n",
    "3. Calculate `num4 = num3 * 2`.  \n",
    "4. Display `num3` and `num4` using `System.out.println()`.  \n",
    "\n",
    "> This shows **sequencing**: each step depends on the previous one.\n"
   ]
  },
  {
   "cell_type": "code",
   "execution_count": 30,
   "id": "7e3feb2d",
   "metadata": {
    "vscode": {
     "languageId": "javascript"
    }
   },
   "outputs": [
    {
     "data": {
      "application/javascript": "\nlet num1 = 2;\nlet num2 = 3;\n\nlet num3 = num1 + num2;\n\nlet num4 = num3 * 2;\n\nconsole.log(\"num3 = \" + num3);\nconsole.log(\"num4 = \" + num4);\n",
      "text/plain": [
       "<IPython.core.display.Javascript object>"
      ]
     },
     "metadata": {},
     "output_type": "display_data"
    }
   ],
   "source": [
    "%%js\n",
    "\n",
    "let num1 = 2;\n",
    "let num2 = 3;\n",
    "\n",
    "let num3 = num1 + num2;\n",
    "\n",
    "let num4 = num3 * 2;\n",
    "\n",
    "console.log(\"num3 = \" + num3);\n",
    "console.log(\"num4 = \" + num4);"
   ]
  },
  {
   "cell_type": "markdown",
   "id": "67a8e865",
   "metadata": {},
   "source": [
    "## Part 4: Mixed Arithmetic\n",
    "\n",
    "1. Set `a = 8`, `b = 4`, `c = 2`.  \n",
    "2. Calculate:  \n",
    "   - `result1 = a + b * c`  \n",
    "   - `result2 = (a + b) * c`  \n",
    "3. Display `result1` and `result2` using `System.out.println()`.  \n",
    "\n",
    "> This helps practice **order of operations**."
   ]
  },
  {
   "cell_type": "code",
   "execution_count": 31,
   "id": "713c4dad",
   "metadata": {
    "vscode": {
     "languageId": "javascript"
    }
   },
   "outputs": [
    {
     "data": {
      "application/javascript": "\nlet a = 8;\nlet b = 4;\nlet c = 2;\n\nlet result1 = a + b * c;\nlet result2 = (a + b) * c;\n\nconsole.log(\"result1 = \" + result1);\nconsole.log(\"result2 = \" + result2);\n",
      "text/plain": [
       "<IPython.core.display.Javascript object>"
      ]
     },
     "metadata": {},
     "output_type": "display_data"
    }
   ],
   "source": [
    "%%js\n",
    "\n",
    "let a = 8;\n",
    "let b = 4;\n",
    "let c = 2;\n",
    "\n",
    "let result1 = a + b * c;\n",
    "let result2 = (a + b) * c;\n",
    "\n",
    "console.log(\"result1 = \" + result1);\n",
    "console.log(\"result2 = \" + result2);"
   ]
  }
 ],
 "metadata": {
  "kernelspec": {
   "display_name": "jupyter-env",
   "language": "python",
   "name": "python3"
  },
  "language_info": {
   "codemirror_mode": {
    "name": "ipython",
    "version": 3
   },
   "file_extension": ".py",
   "mimetype": "text/x-python",
   "name": "python",
   "nbconvert_exporter": "python",
   "pygments_lexer": "ipython3",
   "version": "3.13.7"
  }
 },
 "nbformat": 4,
 "nbformat_minor": 5
}

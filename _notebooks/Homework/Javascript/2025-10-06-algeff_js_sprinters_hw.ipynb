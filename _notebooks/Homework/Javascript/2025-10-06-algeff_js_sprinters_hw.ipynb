{
 "cells": [
  {
   "cell_type": "markdown",
   "id": "01aa5879",
   "metadata": {},
   "source": [
    "# Sprint 2 - Algorithmic Efficiency Homework (JavaScript)\n",
    "\n",
    "**Description:** Homework for Algorithmic Efficiency in JavaScript\n",
    "\n",
    "**Authors:** Akhil K, Shayan B"
   ]
  },
  {
   "cell_type": "markdown",
   "id": "1cdcd0e7",
   "metadata": {},
   "source": [
    "## JS Algorithmic Efficiency Activity: Sum of Even Numbers\n",
    "\n",
    "**Goal:** Write a function that takes an array of numbers and calculates the **sum of all even numbers**. After completing the function, analyze the **time and memory complexity** of your solution.\n",
    "\n",
    "**Instructions:**\n",
    "- Complete the function `sumEvenNumbers(arr)` in the next code cell.\n",
    "- Test it with arrays of different sizes.\n",
    "- Think about:\n",
    "  - **Time Complexity:** How long it takes to compute as the array grows.\n",
    "  - **Memory Complexity:** How much extra memory your algorithm uses.\n",
    "- Optional: Try to optimize memory usage if possible (for example, avoid creating extra arrays).\n",
    "\n",
    "**Example:**\n",
    "```js\n",
    "// Input: [1, 2, 3, 4, 5]\n",
    "// Output: 6 (because 2 + 4 = 6)\n",
    "```"
   ]
  },
  {
   "cell_type": "code",
   "execution_count": null,
   "id": "4a0c9859",
   "metadata": {
    "vscode": {
     "languageId": "javascript"
    }
   },
   "outputs": [],
   "source": [
    "// Starter Code\n",
    "\n",
    "// Task: Complete this function\n",
    "function sumEvenNumbers(arr) {\n",
    "  // Your code here\n",
    "}\n",
    "\n",
    "// Test your function\n",
    "const testArray = [1, 2, 3, 4, 5];\n",
    "console.log(\"Sum of even numbers:\", sumEvenNumbers(testArray));\n",
    "\n",
    "// Optional: test with larger arrays\n",
    "const largeArray = Array.from({ length: 10 }, (_, i) => i + 1);\n",
    "console.log(\"Sum of even numbers in large array:\", sumEvenNumbers(largeArray));"
   ]
  }
 ],
 "metadata": {
  "language_info": {
   "name": "python"
  }
 },
 "nbformat": 4,
 "nbformat_minor": 5
}
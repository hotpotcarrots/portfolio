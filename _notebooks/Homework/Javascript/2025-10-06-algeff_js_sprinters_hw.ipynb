{
 "cells": [
  {
   "cell_type": "markdown",
   "id": "01aa5879",
   "metadata": {},
   "source": [
    "# Sprint 2 - Algorithmic Efficiency Homework (JavaScript)\n",
    "\n",
    "**Description:** Homework for Algorithmic Efficiency in JavaScript\n",
    "\n",
    "**Authors:** Akhil K, Shayan B"
   ]
  },
  {
   "cell_type": "markdown",
   "id": "1cdcd0e7",
   "metadata": {},
   "source": [
    "## JS Algorithmic Efficiency Activity: Sum of Even Numbers\n",
    "\n",
    "**Goal:** Write a function that takes an array of numbers and calculates the **sum of all even numbers**. After completing the function, analyze the **time and memory complexity** of your solution.\n",
    "\n",
    "**Instructions:**\n",
    "- Complete the function `sumEvenNumbers(arr)` in the next code cell.\n",
    "- Test it with arrays of different sizes.\n",
    "- Think about:\n",
    "  - **Time Complexity:** How long it takes to compute as the array grows.\n",
    "  - **Memory Complexity:** How much extra memory your algorithm uses.\n",
    "- Optional: Try to optimize memory usage if possible (for example, avoid creating extra arrays).\n",
    "\n",
    "**Example:**\n",
    "```js\n",
    "// Input: [1, 2, 3, 4, 5]\n",
    "// Output: 6 (because 2 + 4 = 6)\n",
    "```"
   ]
  },
  {
   "cell_type": "code",
   "execution_count": 1,
   "id": "4a0c9859",
   "metadata": {
    "vscode": {
     "languageId": "javascript"
    }
   },
   "outputs": [
    {
     "ename": "SyntaxError",
     "evalue": "invalid syntax (1503056898.py, line 1)",
     "output_type": "error",
     "traceback": [
      "  \u001b[36mCell\u001b[39m\u001b[36m \u001b[39m\u001b[32mIn[1]\u001b[39m\u001b[32m, line 1\u001b[39m\n\u001b[31m    \u001b[39m\u001b[31m// Starter Code\u001b[39m\n    ^\n\u001b[31mSyntaxError\u001b[39m\u001b[31m:\u001b[39m invalid syntax\n"
     ]
    }
   ],
   "source": [
    "// Starter Code\n",
    "\n",
    "// Task: Complete this function\n",
    "function sumEvenNumbers(arr) {\n",
    "  // Your code here\n",
    "}\n",
    "\n",
    "// Test your function\n",
    "const testArray = [1, 2, 3, 4, 5];\n",
    "console.log(\"Sum of even numbers:\", sumEvenNumbers(testArray));\n",
    "\n",
    "// Optional: test with larger arrays\n",
    "const largeArray = Array.from({ length: 10 }, (_, i) => i + 1);\n",
    "console.log(\"Sum of even numbers in large array:\", sumEvenNumbers(largeArray));"
   ]
  },
  {
   "cell_type": "code",
   "execution_count": null,
   "id": "b10c8039",
   "metadata": {
    "vscode": {
     "languageId": "javascript"
    }
   },
   "outputs": [
    {
     "data": {
      "application/javascript": "function sumEvenNumbers(numbers) {\n  let sum = 0;\n\n  for (let i = 0; i < numbers.length; i++) {\n    if (numbers[i] % 2 === 0) {\n      sum += numbers[i];\n    }\n  }\n\n  return sum;\n}\n\n// Example usage:\nlet nums = [1, 2, 3, 4, 5, ];\nconsole.log(\"Sum of even numbers:\", sumEvenNumbers(nums));\n",
      "text/plain": [
       "<IPython.core.display.Javascript object>"
      ]
     },
     "metadata": {},
     "output_type": "display_data"
    }
   ],
   "source": [
    "%%js\n",
    "function sumEvenNumbers(numbers) {\n",
    "  let sum = 0;\n",
    "\n",
    "  for (let i = 0; i < numbers.length; i++) {\n",
    "    if (numbers[i] % 2 === 0) {\n",
    "      sum += numbers[i];\n",
    "    }\n",
    "  }\n",
    "\n",
    "  return sum;\n",
    "}\n",
    "\n",
    "// Example usage:\n",
    "let nums = [1, 2, 3, 4, 5,];\n",
    "console.log(\"Sum of even numbers:\", sumEvenNumbers(nums));"
   ]
  }
 ],
 "metadata": {
  "kernelspec": {
   "display_name": "jupyter-env",
   "language": "python",
   "name": "python3"
  },
  "language_info": {
   "codemirror_mode": {
    "name": "ipython",
    "version": 3
   },
   "file_extension": ".py",
   "mimetype": "text/x-python",
   "name": "python",
   "nbconvert_exporter": "python",
   "pygments_lexer": "ipython3",
   "version": "3.13.7"
  }
 },
 "nbformat": 4,
 "nbformat_minor": 5
}

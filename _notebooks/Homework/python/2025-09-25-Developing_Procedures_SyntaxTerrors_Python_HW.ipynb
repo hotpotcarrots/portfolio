{
 "cells": [
  {
   "cell_type": "code",
   "execution_count": null,
   "id": "fe8aac41",
   "metadata": {},
   "outputs": [],
   "source": [
    "---\n",
    "layout: post\n",
    "title: Developing Procedures Homework\n",
    "description: Understanding Developing Procedures in Python\n",
    "permalink: /csp/big-idea-three/developingprocedures/python/hw/p3/syntaxterrors\n",
    "author: Kailyn S\n",
    "---"
   ]
  },
  {
   "cell_type": "markdown",
   "id": "a31f149f",
   "metadata": {},
   "source": [
    "<div align=\"center\" style=\"margin-bottom: 2em;\">\n",
    "  <a href=\"{{ site.baseurl }}/csp/big-idea-three/developingprocedures/lesson/p3/syntaxterrors\"\n",
    "     style=\"\n",
    "      display: inline-block;\n",
    "      background: linear-gradient(90deg, #2563eb 0%, #1e40af 100%);\n",
    "      color: white;\n",
    "      padding: 0.85em 2.2em;\n",
    "      border-radius: 0.6em;\n",
    "      font-weight: bold;\n",
    "      text-decoration: none;\n",
    "      font-size: 1.15em;\n",
    "      box-shadow: 0 4px 16px rgba(30,64,175,0.18), 0 1.5px 4px rgba(0,0,0,0.10);\n",
    "      transition: \n",
    "        background 0.2s,\n",
    "        transform 0.15s,\n",
    "        box-shadow 0.2s;\n",
    "    \"\n",
    "    onmouseover=\"this.style.transform='scale(1.045)'; this.style.boxShadow='0 8px 24px rgba(30,64,175,0.22), 0 2px 8px rgba(0,0,0,0.13)';\"\n",
    "    onmouseout=\"this.style.transform='scale(1)'; this.style.boxShadow='0 4px 16px rgba(30,64,175,0.18), 0 1.5px 4px rgba(0,0,0,0.10)';\"\n",
    "  >\n",
    "    Developing Procedures Lesson\n",
    "  </a>\n",
    "</div>"
   ]
  },
  {
   "cell_type": "markdown",
   "id": "e1f1e1b7",
   "metadata": {},
   "source": [
    "## Practice Developing Procedures\n",
    "In these examples, you'll be practicing developing procedures based off the context of the name and the call.\n",
    "\n",
    "Practice 1:"
   ]
  },
  {
   "cell_type": "code",
   "execution_count": 3,
   "id": "deab15c3",
   "metadata": {},
   "outputs": [
    {
     "name": "stdout",
     "output_type": "stream",
     "text": [
      "The sum is: 11\n"
     ]
    }
   ],
   "source": [
    "def add(a, b): # what would you add here to make the function make sense later on?\n",
    "    sum_value= a + b\n",
    "    return sum_value\n",
    "\n",
    "def show_sum(a, b):\n",
    "    total = add(a, b)\n",
    "    print(\"The sum is:\", total)\n",
    "\n",
    "show_sum(4, 7)\n"
   ]
  },
  {
   "cell_type": "markdown",
   "id": "f6572a1e",
   "metadata": {},
   "source": [
    "Practice 2:"
   ]
  },
  {
   "cell_type": "code",
   "execution_count": null,
   "id": "68fed7cf",
   "metadata": {},
   "outputs": [
    {
     "name": "stdout",
     "output_type": "stream",
     "text": [
      "Wake up!\n",
      "Eat breakfast!\n",
      "Get ready for the day!\n"
     ]
    }
   ],
   "source": [
    "#def wake_up();\n",
    "    print(\"Wake up!\")\n",
    "    #print(\"Wake up!\")\n",
    "#def breakfast():\n",
    "    #print(\"Eat breakfast!\")\n",
    "\n",
    "#def get_ready():        \n",
    "    #print(\"Get ready for the day!\")\n",
    "\n",
    "# how would you change it so instead of having three seperate functions, you could only have one?\n",
    "def morning_routine():\n",
    "    print(\"Wake up!\")\n",
    "    print(\"Eat breakfast!\")\n",
    "    print(\"Get ready for the day!\")\n",
    "\n",
    "morning_routine()\n"
   ]
  },
  {
   "cell_type": "markdown",
   "id": "ff001db8",
   "metadata": {},
   "source": [
    "Practice 3:"
   ]
  },
  {
   "cell_type": "code",
   "execution_count": 8,
   "id": "5d1d521e",
   "metadata": {},
   "outputs": [
    {
     "name": "stdout",
     "output_type": "stream",
     "text": [
      "Hello, Mr. Mort\n"
     ]
    }
   ],
   "source": [
    "def greet(name): # how would you define the function to print \"Hi (name)! and so that it can change on a name to name basis?\"\n",
    "    print(f\"Hello, {name}\")\n",
    "\n",
    "# Test different inputs\n",
    "greet(\"Mr. Mort\")\n"
   ]
  },
  {
   "cell_type": "markdown",
   "id": "464fca1f",
   "metadata": {},
   "source": [
    "## Combining Calling and Developing Procedures\n",
    "Now that you understand both calling and developing, let's combine the two to fully use functions!\n",
    "Your final task is to be able to produce, on your own, three procedures and call them in an order that makes sense. For example:"
   ]
  },
  {
   "cell_type": "code",
   "execution_count": 10,
   "id": "c23217aa",
   "metadata": {},
   "outputs": [
    {
     "name": "stdout",
     "output_type": "stream",
     "text": [
      "Your final average grade is: 89.8\n"
     ]
    }
   ],
   "source": [
    "def get_grades():\n",
    "    grades = [87, 93, 88, 91, 90]\n",
    "    return grades\n",
    "\n",
    "\n",
    "def grade_calc(grades):\n",
    "    total = sum(grades)\n",
    "    average = total / len(grades)\n",
    "    return average\n",
    "\n",
    "def display_grade():\n",
    "    grades = get_grades()\n",
    "    average = grade_calc(grades)\n",
    "    print (\"Your final average grade is:\", average)\n",
    "\n",
    "display_grade()"
   ]
  },
  {
   "cell_type": "markdown",
   "id": "b8f68a8d",
   "metadata": {},
   "source": [
    "The requirements for this are:\n",
    "1. must have three seperate procedures.\n",
    "2. must call all three procedures at least once, and it can be within other procedures.\n",
    "3. must have at least one print and at least one math function.\n",
    "4. at least one procedure must have multiple steps.\n",
    "\n",
    "Other than that, have fun and create something as simple or complex as you'd like!"
   ]
  },
  {
   "cell_type": "code",
   "execution_count": 21,
   "id": "7391fc83",
   "metadata": {},
   "outputs": [
    {
     "name": "stdout",
     "output_type": "stream",
     "text": [
      "Wake up!\n",
      "You slept for 7 hours.\n",
      "You ate Breakfast!\n",
      "Brush your teeth.\n",
      "Get dressed.\n",
      "Pack your bag.\n",
      "You’re ready for the day!\n"
     ]
    }
   ],
   "source": [
    "# Procedure 1: Wake up\n",
    "def wake_up():\n",
    "    print(\"Wake up!\")\n",
    "    hours_of_sleep = 7\n",
    "    print(\"You slept for\", hours_of_sleep, \"hours.\")\n",
    "\n",
    "# Procedure 2: Eat breakfast\n",
    "def eat_breakfast():\n",
    "    print(\"You ate Breakfast!\")   \n",
    "\n",
    "# Procedure 3: Get ready\n",
    "def get_ready():\n",
    "    print(\"Brush your teeth.\")\n",
    "    print(\"Get dressed.\")\n",
    "    print(\"Pack your bag.\")\n",
    "\n",
    "# Procedure that calls all three\n",
    "def morning_routine():\n",
    "    wake_up()\n",
    "    eat_breakfast()\n",
    "    get_ready()\n",
    "    print(\"You’re ready for the day!\")\n",
    "\n",
    "# Run the full routine\n",
    "morning_routine()"
   ]
  }
 ],
 "metadata": {
  "kernelspec": {
   "display_name": "jupyter-env",
   "language": "python",
   "name": "python3"
  },
  "language_info": {
   "codemirror_mode": {
    "name": "ipython",
    "version": 3
   },
   "file_extension": ".py",
   "mimetype": "text/x-python",
   "name": "python",
   "nbconvert_exporter": "python",
   "pygments_lexer": "ipython3",
   "version": "3.13.7"
  }
 },
 "nbformat": 4,
 "nbformat_minor": 5
}

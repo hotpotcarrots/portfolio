{
 "cells": [
  {
   "cell_type": "raw",
   "id": "2546234a",
   "metadata": {
    "vscode": {
     "languageId": "raw"
    }
   },
   "source": [
    "---\n",
    "layout: post\n",
    "title: Nested Conditionals\n",
    "description: This page will teach you about nested conditionals in programming.\n",
    "permalink: /lessons/nested_conditionals/\n",
    "breadcrumb: True\n",
    "---"
   ]
  },
  {
   "cell_type": "markdown",
   "id": "a15b80fc",
   "metadata": {},
   "source": [
    "# Lesson: Nested Conditionals \n",
    "---"
   ]
  },
  {
   "cell_type": "markdown",
   "id": "ea72918d",
   "metadata": {},
   "source": [
    "\n",
    "## What are Nested Conditionals?\n",
    "A **nested conditional** is a conditional statement inside another conditional statement, or an if statement within an if statement.  \n",
    "This allows us to check multiple conditions in a structured way, which is useful when decisions depend on more than one factor\n",
    "\n",
    "For example:\n",
    "- First, check if a main condition is true.\n",
    "- Then, only if it’s true, check an additional condition inside it.\n",
    "\n",
    "The example below uses if and else statments to form a nested conditional.\n"
   ]
  },
  {
   "cell_type": "code",
   "execution_count": null,
   "id": "569a24d0",
   "metadata": {},
   "outputs": [],
   "source": [
    "\n",
    "# Example of a nested conditional\n",
    "\n",
    "age = 18 ##Sets age variable\n",
    "has_id = True ##Sets has_id variable\n",
    "\n",
    "if age >= 18: ##Checks if age is 18 or older\n",
    "    if has_id: ##Checks if the person has an ID\n",
    "        print(\"You are allowed to enter.\") \n",
    "    else: ##If the person does not have an ID\n",
    "        print(\"You need an ID to enter.\")\n",
    "else: ##If the person is younger than 18\n",
    "    print(\"You are too young to enter.\")\n"
   ]
  },
  {
   "cell_type": "markdown",
   "id": "a15104dc",
   "metadata": {},
   "source": [
    "\n",
    "### How the example works:\n",
    "1. The program first checks if `age >= 18`.\n",
    "2. If **False**, it immediately goes to the `else` branch.\n",
    "3. If **True**, it goes inside and checks the **nested condition** `if has_id`.\n",
    "4. Depending on if the **if statement** is true or false, a different final result is printed.\n",
    "\n",
    "---\n"
   ]
  },
  {
   "cell_type": "code",
   "execution_count": null,
   "id": "5ac37a23",
   "metadata": {},
   "outputs": [],
   "source": [
    "\n",
    "# Another nested conditional example\n",
    "\n",
    "grade = 85 ##Sets grade variable\n",
    "\n",
    "if grade >= 60: ##Checks if grade is 60 or higher\n",
    "    if grade >= 90: ##Checks if grade is 90 or higher\n",
    "        print(\"You got an A\") \n",
    "    elif grade >= 80: ##Checks if grade is 80 or higher\n",
    "        print(\"You passed with a B\")\n",
    "    else: ##If grade is between 60 and 79\n",
    "        print(\"You passed with a C\")\n",
    "else: ##If grade is below 60\n",
    "    print(\"You failed the class.\")\n"
   ]
  },
  {
   "cell_type": "markdown",
   "id": "b53f612f",
   "metadata": {},
   "source": [
    "\n",
    "## Practice\n",
    "Try writing your own nested conditionals.  \n",
    "Here are some ideas:\n",
    "- **Easy:** Check if a number is positive, and if it’s even or odd.  \n",
    "- **Medium:** Ask if someone is a student, and if yes, check their grade level.  \n",
    "- **Hard:** Create a login system that first checks if a username exists, and then checks if the password is correct. \n",
    "\n",
    "---\n"
   ]
  },
  {
   "cell_type": "code",
   "execution_count": null,
   "id": "d4ad56c3",
   "metadata": {},
   "outputs": [],
   "source": [
    "# Write practice nested conditional here"
   ]
  }
 ],
 "metadata": {
  "language_info": {
   "name": "python"
  }
 },
 "nbformat": 4,
 "nbformat_minor": 5
}
